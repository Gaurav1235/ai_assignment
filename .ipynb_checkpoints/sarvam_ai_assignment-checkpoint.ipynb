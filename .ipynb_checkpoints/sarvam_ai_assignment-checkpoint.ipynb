{
 "cells": [
  {
   "cell_type": "code",
   "execution_count": 3,
   "id": "846d3210-2493-468e-b6eb-76b5465d70be",
   "metadata": {},
   "outputs": [],
   "source": [
    "import openai"
   ]
  },
  {
   "cell_type": "code",
   "execution_count": 4,
   "id": "0fc705e3-447c-4785-89b3-0a54747e5514",
   "metadata": {},
   "outputs": [],
   "source": [
    "mykey=\"sk-*\""
   ]
  },
  {
   "cell_type": "code",
   "execution_count": 5,
   "id": "04950b4b-1413-4cb3-ad84-f852a133ac10",
   "metadata": {},
   "outputs": [],
   "source": [
    "openai.api_key=mykey"
   ]
  },
  {
   "cell_type": "code",
   "execution_count": 6,
   "id": "32b66b9a-dc92-4302-86b1-22e76bb0769c",
   "metadata": {},
   "outputs": [],
   "source": [
    "from langchain_community.document_loaders import UnstructuredHTMLLoader"
   ]
  },
  {
   "cell_type": "code",
   "execution_count": 8,
   "id": "c2959f32-35fb-4ac9-a64f-e3d5f9f0aa5c",
   "metadata": {},
   "outputs": [],
   "source": [
    "loader = UnstructuredHTMLLoader(\"/Users/gauravkungwani/Downloads/langchain_crash_course/langchain/toc_notifications_2023_1991/rbi_notification_2023_1991/2023.html\")"
   ]
  },
  {
   "cell_type": "code",
   "execution_count": 9,
   "id": "c714cbcc-f349-4f05-8e7d-7f2f3e6d91ae",
   "metadata": {},
   "outputs": [
    {
     "name": "stderr",
     "output_type": "stream",
     "text": [
      "[nltk_data] Downloading package punkt to\n",
      "[nltk_data]     /Users/gauravkungwani/nltk_data...\n",
      "[nltk_data]   Unzipping tokenizers/punkt.zip.\n",
      "[nltk_data] Downloading package averaged_perceptron_tagger to\n",
      "[nltk_data]     /Users/gauravkungwani/nltk_data...\n",
      "[nltk_data]   Unzipping taggers/averaged_perceptron_tagger.zip.\n"
     ]
    }
   ],
   "source": [
    "data = loader.load()"
   ]
  },
  {
   "cell_type": "code",
   "execution_count": 10,
   "id": "b13ebff0-6630-4cec-a979-998759593e05",
   "metadata": {},
   "outputs": [
    {
     "data": {
      "text/plain": [
       "[Document(page_content=\"Skip to main content\\n\\nहिंदी\\n\\nHome\\n\\nAbout Us\\n\\nNotifications\\n\\nPress Releases\\n\\nSpeeches & Media Interactions\\n                \\n                  Speeches\\n                  Media Interactions\\n                  Memorial Lectures\\n\\nPublications \\n                \\n                  Annual\\n                  Half-Yearly\\n                  Quarterly\\n\\t\\t          Bi-monthly\\n                  Monthly\\n                  Weekly\\n                  Occasional\\n                   Reports\\n\\t\\t            Working Papers\\n\\nLegal Framework \\n                \\n                  Act \\n                   Rules \\n                    Regulations  \\n                    Schemes\\n\\nResearch \\n\\t        \\n                External Research Schemes\\n                RBI Occasional Papers\\n                Working Papers\\n                RBI Bulletin\\n\\t            History\\n                DRG Studies\\n                KLEMS\\n\\t\\t        State Statistics and Finances\\n\\nStatistics \\n                \\n                  Data Releases\\n                  Database on Indian Economy\\n                  Public Debt Statistics\\n\\nRegulatory Reporting\\n\\t\\t\\t\\t \\n\\t\\t\\t\\t\\tList of Returns\\n\\t\\t\\t\\t\\t\\n                    Data Definition\\n                        \\n                    \\n\\n\\t\\t\\t\\t\\tValidation rules/ Taxonomy\\n\\t\\t\\t\\t\\tList of RBI Reporting Portals\\n\\t\\t\\t\\t\\tFAQs of RBI Reporting Portals\\n\\nHome\\n\\nNotifications\\n\\nNotifications\\n\\nMaster Directions\\n\\nMaster Circulars\\n\\nDraft Notifications/ Guidelines\\n\\nIndex to RBI Circulars\\n\\nNotifications\\n\\nSep 30, 2023 ₹2000 Denomination Banknotes – Withdrawal from Circulation – Review  364 kb Sep 25, 2023 Display of information - Secured assets possessed under the SARFAESI Act, 2002  218 kb Sep 21, 2023 Master Direction - Reserve Bank of India (Prudential Regulations on Basel III Capital Framework, Exposure Norms, Significant Investments, Classification, Valuation and Operation of Investment Portfolio Norms and Resource Raising Norms for All India Financial Institutions) Directions, 2023  2554 kb Sep 20, 2023 Data Quality Index for Commercial and Microfinance Segments by Credit Information Companies  1332 kb Sep 13, 2023 PM Vishwakarma Scheme  188 kb Responsible Lending Conduct – Release of Movable / Immovable Property Documents on Repayment/ Settlement of Personal Loans  643 kb Sep 12, 2023 Master Direction - Classification, Valuation and Operation of Investment Portfolio of Commercial Banks (Directions), 2023  1605 kb Sep 08, 2023 Reserve Bank of India Act, 1934 - Section 42(1A)- Requirement for maintaining additional CRR  216 kb Sep 04, 2023 Operation of Pre-Sanctioned Credit Lines at Banks through Unified Payments Interface (UPI)  272 kb Aug 24, 2023 Enhancing transaction limits for Small Value Digital Payments in Offline Mode  380 kb Aug 18, 2023 Implementation of Section 12A of the Weapons of Mass Destruction and their Delivery Systems (Prohibition of Unlawful Activities) Act, 2005: Designated List (Amendments)  233 kb Reset of Floating Interest Rate on Equated Monthly Instalments (EMI) based Personal Loans  308 kb Review of Regulatory Framework for IDF-NBFCs  274 kb Fair Lending Practice - Penal Charges in Loan Accounts  993 kb Aug 10, 2023 Reserve Bank of India Act, 1934 - Section 42(1A) - Requirement for maintaining additional CRR  307 kb Jul 25, 2023 Master Circular - Management of Advances - UCBs  915 kb Jul 24, 2023 Implementation of Section 51A of UAPA,1967: Updates to UNSC’s 1267/ 1989 ISIL (Da'esh) & Al-Qaida Sanctions List: Amendments in 02 Entries  305 kb Jul 18, 2023 Inclusion of “NongHyup Bank” in the Second Schedule of the Reserve Bank of India Act, 1934  236 kb Jul 04, 2023 Implementation of Section 12A of the Weapons of Mass Destruction and their Delivery Systems (Prohibition of Unlawful Activities) Act, 2005: Designated List (Amendments)  234 kb Implementation of Section 12A of the Weapons of Mass Destruction and their Delivery Systems (Prohibition of Unlawful Activities) Act, 2005: Designated List (Consolidated)  645 kb Jun 26, 2023 Master Direction on Minimum Capital Requirements for Operational Risk  1297 kb Jun 23, 2023 Status of MIFOR as a Significant Benchmark  298 kb Jun 22, 2023 Remittances to International Financial Services Centres (IFSCs)  under the Liberalised Remittance Scheme (LRS)  196 kb Jun 15, 2023 Sovereign Gold Bond (SGB) Scheme 2023-24  251 kb Jun 14, 2023 Agency Commission for collection of indirect taxes through ICEGATE payment gateway  277 kb Jun 08, 2023 Priority Sector Lending (PSL) targets / sub-targets and contribution against shortfall in achievement of PSL targets – Primary (Urban) Co-operative Banks (UCBs) - Extension of time  362 kb Guidelines on Default Loss Guarantee (DLG) in Digital Lending  294 kb Framework for Compromise Settlements and Technical Write-offs  235 kb Rationalization of Branch Authorisation Policy for Urban Co-operative Banks (UCBs)  261 kb Reserve Bank of India (Call, Notice and Term Money Markets) Directions, 2021-Review  196 kb Jun 07, 2023 Expanding the Scope of Trade Receivables Discounting System  371 kb Jun 06, 2023 Risk Management and Inter-Bank Dealings - Non-deliverable derivative contracts (NDDCs)  251 kb Implementation of Section 51A of UAPA,1967: Updates to UNSC’s 1267/ 1989 ISIL (Da'esh) & Al-Qaida Sanctions List: Removal of 02 entries from Sanction List  275 kb Jun 05, 2023 Implementation of Section 51A of UAPA,1967: Updates to UNSC’s 1267/ 1989 ISIL (Da'esh) & Al-Qaida Sanctions List: Amendments in 01 Entry  323 kb May 22, 2023 ₹2000 Denomination Banknotes –  Withdrawal from Circulation; Will continue as Legal Tender  283 kb May 19, 2023 ₹2000 Denomination Banknotes – Withdrawal from Circulation; Will continue as Legal Tender  365 kb May 12, 2023 Master Circular – Basel III Capital Regulations  3951 kb LIBOR Transition  228 kb May 09, 2023 Levy of charges on forex prepaid cards/store value cards/travel cards, etc.  254 kb Formation of new district in the State of Arunachal Pradesh – Assignment of Lead Bank Responsibility  341 kb Formalisation of Informal Micro Enterprises on Udyam Assist Platform  194 kb May 08, 2023 Master Circular - Income Recognition, Asset Classification, Provisioning and Other Related Matters - UCBs  792 kb May 04, 2023 Amendment to the Master Direction (MD) on KYC – Instructions on Wire Transfer  335 kb Apr 28, 2023 Amendment to the Master Direction (MD) on KYC  333 kb Apr 27, 2023 Implementation of Section 51A of UAPA, 1967: Updates to UNSC’s 1267/ 1989 ISIL (Da'esh) & Al-Qaida Sanctions List: Addition of two entries  242 kb Apr 26, 2023 Merger of Districts in the state of Assam – Assignment of Lead Bank Responsibility  674 kb Remittances to International Financial Services Centres (IFSCs) under the Liberalised Remittance Scheme (LRS)  174 kb Master Circular – Deendayal Antyodaya Yojana - National Rural Livelihoods Mission (DAY-NRLM)  602 kb Apr 25, 2023 General Credit Card (GCC) Facility – Review  191 kb Apr 24, 2023 Provisioning for standard assets by primary (Urban) co-operative banks – revised norms under four-tiered regulatory framework  206 kb Apr 20, 2023 Master Circular- Prudential Norms on Capital Adequacy - Primary (Urban) Co-operative Banks (UCBs)  612 kb Apr 12, 2023 Authorised Dealers Category-II - Online submission of Form A2  249 kb Apr 11, 2023 Master Circular - Housing Finance for UCBs  321 kb Framework for acceptance of Green Deposits  426 kb Apr 10, 2023 Master Direction on Outsourcing of Information Technology Services  417 kb Apr 06, 2023 APConnect - Online application for Full Fledged Money Changers and non-bank Authorised Dealers Category-II  210 kb Apr 03, 2023 Master Circular - Asset Reconstruction Companies  628 kb Master Direction on Framework of Incentives for Currency Distribution & Exchange Scheme for bank branches including currency chests based on performance in rendering customer service to the members of public  264 kb Master Direction – Scheme of Penalties for bank branches and Currency Chests for deficiency in rendering customer service to the members of public  279 kb Master Direction on Penal Provisions in reporting of transactions/ balances at Currency Chests  258 kb Master Direction on Counterfeit Notes, 2023 - Detection, Reporting and Monitoring  1356 kb Master Direction – Facility for Exchange of Notes and Coins (Updated as on May 15, 2023)  299 kb Master Circular – Lead Bank Scheme  2264 kb Master Circular - Disbursement of Government Pension by Agency Banks  416 kb Master Circular - Bank Finance to Non-Banking Financial Companies (NBFCs)  247 kb Master Circular – Housing Finance  284 kb Apr 01, 2023 Master Circular on Conduct of Government Business by Agency Banks - Payment of Agency Commission  487 kb Master Direction – Reserve Bank of India (Classification, Valuation and Operation of Investment Portfolio of Primary (Urban) Co-operative Banks) Directions, 2023  608 kb Master Circular - Prudential norms on Income Recognition, Asset Classification and Provisioning pertaining to Advances  795 kb Master Circular - Guarantees and Co-acceptances  665 kb Master Circular on SHG-Bank Linkage Programme  353 kb Master Circular - Guarantees, Co-Acceptances & Letters of Credit - UCBs  294 kb Master Circular - Credit facilities to Scheduled Castes (SCs) & Scheduled Tribes (STs)  392 kb Master Circular on Credit Facilities to Minority Communities  1098 kb Mar 29, 2023 Special Clearing Operations on March 31, 2023  343 kb Revised Regulatory Framework for Urban Co-operative Banks (UCBs) – Net Worth and Capital Adequacy  252 kb Mar 27, 2023 Cessation of “Abu Dhabi Commercial Bank PJSC” as a banking company within the meaning of sub section (2) of Section 36 A of Banking Regulation Act, 1949  275 kb Exclusion of “Abu Dhabi Commercial Bank PJSC” from the Second Schedule to the Reserve Bank of India Act, 1934  271 kb Mar 21, 2023 Annual Closing of Government Accounts – Transactions of Central / State Governments – Special Measures for the Current Financial Year (2022-23)  323 kb Mar 17, 2023 Implementation of Section 51A of UAPA,1967: Updates to UNSC’s 1267/ 1989 ISIL (Da'esh) & Al-Qaida Sanctions List: Amendments to 102 entries  258 kb Mar 16, 2023 Reporting and Accounting of Central Government transactions for March 2023  277 kb Feb 28, 2023 Designation of 1 individual and 2 organisations under Section 35(1) (a) and 2(1) (m) of the Unlawful Activities (Prevention) Act,1967 and their listing in the Fourth and First Schedule of the Act- Reg.  257 kb Feb 20, 2023 Implementation of Indian Accounting Standards (Ind AS)  353 kb Reserve Bank of India (Financial Statements - Presentation and Disclosures) Directions, 2021 – Disclosures for State Co-operative Banks and Central Co-operative Banks  350 kb Feb 17, 2023 Governance, measurement and management of Interest Rate Risk in Banking Book  696 kb Feb 16, 2023 Exim Bank’s GOI-supported Line of Credit (LOC) for USD 100 million to the Government of the Republic of Maldives (GO-MDV), for financing new developmental projects and to meet spill over costs from developmental projects in Maldives already included under Lines of credit extended to GO-MDV by Exim Bank  113 kb Introduction of Foreign Contribution (Regulation) Act (FCRA) related transaction code in NEFT and RTGS Systems  335 kb Feb 13, 2023 Formation of new district in the State of Sikkim – Assignment of Lead Bank Responsibility  292 kb Feb 10, 2023 Issuance of PPIs to Foreign Nationals / Non-Resident Indians (NRIs) visiting India  331 kb Feb 08, 2023 Liquidity Adjustment Facility - Change in rates  357 kb Change in Bank Rate  304 kb Standing Liquidity Facility for Primary Dealers  340 kb Feb 03, 2023 Implementation of Section 51A of UAPA,1967: Updates to UNSC’s 1267/ 1989 ISIL (Da'esh) & Al-Qaida Sanctions List (Amendments to 29 entries)  229 kb Jan 30, 2023 Implementation of Section 51A of UAPA, 1967: Updates to UNSC’s 1267/ 1989 ISIL (Da'esh) & Al-Qaida Sanctions List: Addition of 1 entry  233 kb Jan 24, 2023 Designation of 3 individuals as ‘Terrorists’ under Section 35 (1) (a) of the Unlawful Activities (Prevention) Act (UAPA), 1967 and their listing in the Schedule IV of the Act-Reg.  212 kb Jan 23, 2023 ‘Fully Accessible Route’ for Investment by Non-residents in Government Securities – Inclusion of Sovereign Green Bonds  197 kb Safe Deposit Locker/Safe Custody Article Facility provided by banks  235 kb Jan 17, 2023 Implementation of Section 51A of UAPA, 1967: Updates to UNSC’s 1267/ 1989 ISIL (Da'esh) & Al-Qaida Sanctions List: Addition of 1 entry  349 kb Designation of two individuals and one organisation under Section 35(1) (a) and 2(1) (m) of the Unlawful Activities (Prevention) Act,1967 and their listing in the First and Fourth Schedule of the Act  287 kb Jan 16, 2023 Guidelines on Acquisition and Holding of Shares or Voting Rights in Banking Companies  236 kb Master Direction – Reserve Bank of India (Acquisition and Holding of Shares or Voting Rights in Banking Companies) Directions, 2023  310 kb Jan 13, 2023 Formation of new district in the State of Sikkim – Assignment of Lead Bank Responsibility  293 kb Formation of new district in the State of Arunachal Pradesh  – Assignment of Lead Bank Responsibility  352 kb Jan 11, 2023 Operational Risk Management: Price / Yield range setting in e-Kuber  133 kb Jan 09, 2023 Basel III Capital Regulations - Eligible Credit Rating Agencies  223 kb Jan 06, 2023 Formation of new districts in the State of Chhattisgarh – Assignment of Lead Bank Responsibility  301 kb Jan 04, 2023 Foreign Investment in India - Rationalisation of reporting in Single Master Form (SMF) on FIRMS Portal  261 kb\\n\\n2023All MonthsJanuaryFebruaryMarchAprilMayJuneJulyAugustSeptemberOctoberNovemberDecember2022All MonthsJanuaryFebruaryMarchAprilMayJuneJulyAugustSeptemberOctoberNovemberDecember2021All MonthsJanuaryFebruaryMarchAprilMayJuneJulyAugustSeptemberOctoberNovemberDecember2020All MonthsJanuaryFebruaryMarchAprilMayJuneJulyAugustSeptemberOctoberNovemberDecember2019All MonthsJanuaryFebruaryMarchAprilMayJuneJulyAugustSeptemberOctoberNovemberDecember2018All MonthsJanuaryFebruaryMarchAprilMayJuneJulyAugustSeptemberOctoberNovemberDecember2017All MonthsJanuaryFebruaryMarchAprilMayJuneJulyAugustSeptemberOctoberNovemberDecember2016All MonthsJanuaryFebruaryMarchAprilMayJuneJulyAugustSeptemberOctoberNovemberDecember2015All MonthsJanuaryFebruaryMarchAprilMayJuneJulyAugustSeptemberOctoberNovemberDecember2014All MonthsJanuaryFebruaryMarchAprilMayJuneJulyAugustSeptemberOctoberNovemberDecemberArchives2013All MonthsJanuaryFebruaryMarchAprilMayJuneJulyAugustSeptemberOctoberNovemberDecember2012All MonthsJanuaryFebruaryMarchAprilMayJuneJulyAugustSeptemberOctoberNovemberDecember2011All MonthsJanuaryFebruaryMarchAprilMayJuneJulyAugustSeptemberOctoberNovemberDecember2010All MonthsJanuaryFebruaryMarchAprilMayJuneJulyAugustSeptemberOctoberNovemberDecember2009All MonthsJanuaryFebruaryMarchAprilMayJuneJulyAugustSeptemberOctoberNovemberDecember2008All MonthsJanuaryFebruaryMarchAprilMayJuneJulyAugustSeptemberOctoberNovemberDecember2007All MonthsJanuaryFebruaryMarchAprilMayJuneJulyAugustSeptemberOctoberNovemberDecember2006All MonthsJanuaryFebruaryMarchAprilMayJuneJulyAugustSeptemberOctoberNovemberDecember2005All MonthsJanuaryFebruaryMarchAprilMayJuneJulyAugustSeptemberOctoberNovemberDecember2004All MonthsJanuaryFebruaryMarchAprilMayJuneJulyAugustSeptemberOctoberNovemberDecember2003All MonthsJanuaryFebruaryMarchAprilMayJuneJulyAugustSeptemberOctoberNovemberDecember2002All MonthsJanuaryFebruaryMarchAprilMayJuneJulyAugustSeptemberOctoberNovemberDecember2001All MonthsJanuaryFebruaryMarchAprilMayJuneJulyAugustSeptemberOctoberNovemberDecember2000All MonthsJanuaryFebruaryMarchAprilMayJuneJulyAugustSeptemberOctoberNovemberDecember1999All MonthsJanuaryFebruaryMarchAprilMayJuneJulyAugustSeptemberOctoberNovemberDecember1998All MonthsJanuaryFebruaryMarchAprilMayJuneJulyAugustSeptemberOctoberNovemberDecember1997All MonthsJanuaryFebruaryMarchAprilMayJuneJulyAugustSeptemberOctoberNovemberDecember1996All MonthsJanuaryFebruaryMarchAprilMayJuneJulyAugustSeptemberOctoberNovemberDecember1995All MonthsJanuaryFebruaryMarchAprilMayJuneJulyAugustSeptemberOctoberNovemberDecember1994All MonthsJanuaryFebruaryMarchAprilMayJuneJulyAugustSeptemberOctoberNovemberDecember1993All MonthsJanuaryFebruaryMarchAprilMayJuneJulyAugustSeptemberOctoberNovemberDecember1992All MonthsJanuaryFebruaryMarchAprilMayJuneJulyAugustSeptemberOctoberNovemberDecember1991All MonthsJanuaryFebruaryMarchAprilMayJuneJulyAugustSeptemberOctoberNovemberDecember\\n\\nTop\\n\\nMore Links\\n\\nFinancial Education\\n\\nE-LMS\\n\\nRBI Kehta Hai\\n\\nFAQs\\n\\nIFSC/MICR Codes\\n\\nTenders\\n\\nOpportunities@RBI\\n\\nBank Holidays\\n\\nForms\\n\\nEvents\\n\\nRBI Clarifications\\n\\nRight to Information Act\\n\\nImportant Websites\\n\\nRBI's Core Purpose, Values and Vision\\n\\nCitizens' Charter\\n\\nTimelines for Regulatory Approvals\\n\\nComplaints\\n\\nBanking Glossary\\n\\nContact Us\\n\\nFollow RBI\\n\\nRSS\\n\\nTwitter\\n\\nYouTube\\n\\nDownload Mobile App \\n   \\t Play Store\\n\\tApp Store\\n\\n© Reserve Bank of India. All Rights Reserved.\\n\\nSitemap |\\n\\nDisclaimer\\n\\nApril 14, 2015\\n    \\n    \\n  \\n     \\n    \\n   Dear All\\n     \\n     \\n      \\n     \\n  Welcome to the refurbished site of the Reserve Bank of India. \\n     \\n   \\n     \\n     \\n    \\n  The two most important features of the site are: One, in addition to the default site, the refurbished site also has all the information bifurcated functionwise; two, a much improved search – well, at least we think so but you be the judge. \\n     \\n   \\n     \\n     \\n   With this makeover, we also take a small step into social media. We will now use Twitter (albeit one way) to send out alerts on the announcements we make and YouTube to place in public domain our press conferences, interviews of our top management, events, such as, town halls and of course, some films aimed at consumer literacy.  \\n     \\n   \\n     \\n     \\n    The site can be accessed through most browsers and devices; it also meets accessibility standards. \\n     \\n     \\n     \\n    Please save the url of the refurbished site in your favourites as we will give up the existing site shortly and register or re-register yourselves for receiving RSS feeds for uninterrupted alerts from the Reserve Bank. \\n     \\n     \\n     \\n    Do feel free to give us your feedback by clicking on the feedback button on the right hand corner of the refurbished site. \\n     \\n     \\n     \\n    Thank you for your continued support. \\n     \\n     \\n     \\n     \\n    Department of Communication  \\nReserve Bank of India \\n\\n     \\n     Next\", metadata={'source': '/Users/gauravkungwani/Downloads/langchain_crash_course/langchain/toc_notifications_2023_1991/rbi_notification_2023_1991/2023.html'})]"
      ]
     },
     "execution_count": 10,
     "metadata": {},
     "output_type": "execute_result"
    }
   ],
   "source": [
    "data"
   ]
  },
  {
   "cell_type": "code",
   "execution_count": 11,
   "id": "a3b11a65-7f7c-411e-a051-8465698f4312",
   "metadata": {},
   "outputs": [],
   "source": [
    "from langchain_openai import ChatOpenAI\n",
    "\n",
    "llm = ChatOpenAI(openai_api_key=mykey)"
   ]
  },
  {
   "cell_type": "code",
   "execution_count": 16,
   "id": "a51dc974-edbc-494f-966b-93f609f8b49f",
   "metadata": {},
   "outputs": [
    {
     "data": {
      "text/plain": [
       "AIMessage(content=\"I'm sorry, but I cannot provide information on a notification passed on 21st September 2023 as it is a future date. Could you please provide more context or clarify the date?\", response_metadata={'token_usage': {'completion_tokens': 39, 'prompt_tokens': 22, 'total_tokens': 61}, 'model_name': 'gpt-3.5-turbo', 'system_fingerprint': 'fp_b28b39ffa8', 'finish_reason': 'stop', 'logprobs': None})"
      ]
     },
     "execution_count": 16,
     "metadata": {},
     "output_type": "execute_result"
    }
   ],
   "source": [
    "llm.invoke(\"what was the rbi notification passed on 21st Sep'23?\")"
   ]
  },
  {
   "cell_type": "code",
   "execution_count": 17,
   "id": "2adaae6b-1890-4c3f-8db7-0e843968267e",
   "metadata": {},
   "outputs": [],
   "source": [
    "from langchain_core.prompts import ChatPromptTemplate\n",
    "prompt = ChatPromptTemplate.from_messages([\n",
    "    (\"system\", \"You are a assistant\"),\n",
    "    (\"user\", \"{input}\")\n",
    "])"
   ]
  },
  {
   "cell_type": "code",
   "execution_count": 18,
   "id": "2fc2489b-240e-4db6-a22c-da497bd30509",
   "metadata": {},
   "outputs": [],
   "source": [
    "chain = prompt | llm "
   ]
  },
  {
   "cell_type": "code",
   "execution_count": 19,
   "id": "e8b9a316-1db9-43ee-b46e-e4fc4aa4cecc",
   "metadata": {},
   "outputs": [
    {
     "data": {
      "text/plain": [
       "AIMessage(content=\"I am unable to provide real-time information about specific notifications issued by the RBI on September 21, 2023. I recommend checking the RBI's official website or financial news sources for the most up-to-date information on any recent notifications or circulars issued by the Reserve Bank of India.\", response_metadata={'token_usage': {'completion_tokens': 58, 'prompt_tokens': 30, 'total_tokens': 88}, 'model_name': 'gpt-3.5-turbo', 'system_fingerprint': 'fp_b28b39ffa8', 'finish_reason': 'stop', 'logprobs': None})"
      ]
     },
     "execution_count": 19,
     "metadata": {},
     "output_type": "execute_result"
    }
   ],
   "source": [
    "chain.invoke({\"input\": \"what was the rbi notification passed on 21st Sep'23?\"})"
   ]
  },
  {
   "cell_type": "code",
   "execution_count": 20,
   "id": "d63f9e03-434e-445b-9f9e-be675e8d98e3",
   "metadata": {},
   "outputs": [],
   "source": [
    "from langchain_core.output_parsers import StrOutputParser\n",
    "\n",
    "output_parser = StrOutputParser()"
   ]
  },
  {
   "cell_type": "code",
   "execution_count": 21,
   "id": "674aebec-9c1f-47f5-9d7f-284246137a3e",
   "metadata": {},
   "outputs": [],
   "source": [
    "chain = prompt | llm | output_parser"
   ]
  },
  {
   "cell_type": "code",
   "execution_count": 22,
   "id": "1d326a09-de02-41c8-89c0-fe7324d827e8",
   "metadata": {},
   "outputs": [
    {
     "data": {
      "text/plain": [
       "\"I'm sorry, but I do not have real-time information on specific notifications or events that happened on September 21, 2023. I recommend checking the official Reserve Bank of India (RBI) website or news sources for the most up-to-date information on any notifications or announcements made on that date.\""
      ]
     },
     "execution_count": 22,
     "metadata": {},
     "output_type": "execute_result"
    }
   ],
   "source": [
    "chain.invoke({\"input\": \"what was the rbi notification passed on 21st Sep'23?\"})"
   ]
  },
  {
   "cell_type": "code",
   "execution_count": 24,
   "id": "dafb4d05-9fd6-4802-835c-3a74bedeb77a",
   "metadata": {},
   "outputs": [],
   "source": [
    "from langchain_openai import OpenAIEmbeddings"
   ]
  },
  {
   "cell_type": "code",
   "execution_count": 27,
   "id": "08065654-23c6-41db-b749-e52646cceb28",
   "metadata": {},
   "outputs": [],
   "source": [
    "embeddings = OpenAIEmbeddings(openai_api_key=mykey)"
   ]
  },
  {
   "cell_type": "code",
   "execution_count": 28,
   "id": "ca8b2599-2242-493f-a09c-0628d36ba52d",
   "metadata": {},
   "outputs": [],
   "source": [
    "from langchain_community.vectorstores import FAISS\n",
    "from langchain_text_splitters import RecursiveCharacterTextSplitter\n",
    "\n",
    "\n",
    "text_splitter = RecursiveCharacterTextSplitter()\n",
    "documents = text_splitter.split_documents(data)\n",
    "vector = FAISS.from_documents(documents, embeddings)"
   ]
  },
  {
   "cell_type": "code",
   "execution_count": 29,
   "id": "d18fbea0-23e4-4997-b989-a3ae824168ed",
   "metadata": {},
   "outputs": [
    {
     "data": {
      "text/plain": [
       "<langchain_community.vectorstores.faiss.FAISS at 0x7f85566128e0>"
      ]
     },
     "execution_count": 29,
     "metadata": {},
     "output_type": "execute_result"
    }
   ],
   "source": [
    "vector"
   ]
  },
  {
   "cell_type": "code",
   "execution_count": 30,
   "id": "40612cc1-6a6c-4d1f-a82f-c466bebb323c",
   "metadata": {},
   "outputs": [],
   "source": [
    "from langchain.chains.combine_documents import create_stuff_documents_chain\n",
    "\n",
    "prompt = ChatPromptTemplate.from_template(\"\"\"Answer the following question based only on the provided context:\n",
    "\n",
    "<context>\n",
    "{context}\n",
    "</context>\n",
    "\n",
    "Question: {input}\"\"\")\n",
    "\n",
    "document_chain = create_stuff_documents_chain(llm, prompt)"
   ]
  },
  {
   "cell_type": "code",
   "execution_count": 31,
   "id": "e5e879cf-bc58-4549-84c0-3c4a1255a459",
   "metadata": {},
   "outputs": [
    {
     "data": {
      "text/plain": [
       "\"Without additional information, it is not possible to determine the specific content of the RBI notification passed on 21st Sep'23.\""
      ]
     },
     "execution_count": 31,
     "metadata": {},
     "output_type": "execute_result"
    }
   ],
   "source": [
    "from langchain_core.documents import Document\n",
    "\n",
    "document_chain.invoke({\n",
    "    \"input\": \"what was the rbi notification passed on 21st Sep'23?\",\n",
    "    \"context\": [Document(page_content=\"Rbi notification 21st Sep'23\")]\n",
    "})"
   ]
  },
  {
   "cell_type": "code",
   "execution_count": 32,
   "id": "27e91c40-3f5b-4a38-9334-a95180c32117",
   "metadata": {},
   "outputs": [],
   "source": [
    "from langchain.chains import create_retrieval_chain\n",
    "\n",
    "retriever = vector.as_retriever()\n",
    "retrieval_chain = create_retrieval_chain(retriever, document_chain)"
   ]
  },
  {
   "cell_type": "code",
   "execution_count": 33,
   "id": "ab5624ba-127d-43bd-8e35-e48ad81c442b",
   "metadata": {},
   "outputs": [
    {
     "name": "stdout",
     "output_type": "stream",
     "text": [
      "The RBI notification passed on 21st Sep'23 was \"Master Direction - Reserve Bank of India (Prudential Regulations on Basel III Capital Framework, Exposure Norms, Significant Investments, Classification, Valuation and Operation of Investment Portfolio Norms and Resource Raising Norms for All India Financial Institutions) Directions, 2023\".\n"
     ]
    }
   ],
   "source": [
    "response = retrieval_chain.invoke({\"input\": \"what was the rbi notification passed on 21st Sep'23?\"})\n",
    "print(response[\"answer\"])\n",
    "\n",
    "# LangSmith offers several features that can help with testing:..."
   ]
  },
  {
   "cell_type": "code",
   "execution_count": null,
   "id": "5b251c9a-24ff-4049-9aa8-9775654b41dd",
   "metadata": {},
   "outputs": [],
   "source": []
  }
 ],
 "metadata": {
  "kernelspec": {
   "display_name": "Python 3 (ipykernel)",
   "language": "python",
   "name": "python3"
  },
  "language_info": {
   "codemirror_mode": {
    "name": "ipython",
    "version": 3
   },
   "file_extension": ".py",
   "mimetype": "text/x-python",
   "name": "python",
   "nbconvert_exporter": "python",
   "pygments_lexer": "ipython3",
   "version": "3.8.19"
  }
 },
 "nbformat": 4,
 "nbformat_minor": 5
}
